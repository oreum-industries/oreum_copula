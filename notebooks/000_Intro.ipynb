{
  "cells": [
    {
      "cell_type": "markdown",
      "metadata": {},
      "source": [
        "**[Oreum Industries](https://oreum.io/) Reference Project, 2024Q3**\n",
        "\n",
        "---\n",
        "\n",
        "# 000_Intro.ipynb\n",
        "\n",
        "### Oreum Reference - Copula Regression `oreum_copula`\n",
        "\n",
        "Demonstrate Bayesian Copula Regression Modelling using Bayesian inference and a Bayesian workflow, specifically using \n",
        "the `pymc` & `arviz` ecosystem.\n",
        "\n",
        "This **Intro** can also be used for verbal presentation and discussion purposes, ideally followed by a deeper technical \n",
        "walkthrough of the project in a long-form style. Because this project is a reference, it contains huge amounts of detail \n",
        "which is not worthwhile to summarise too much. \n",
        "\n",
        "The interested reader should refer to the project notebooks where we evaluate the behaviour and performance of the \n",
        "models throughout the workflows, including several state-of-the-art methods unavailable to conventional max-likelihood \n",
        "/ machine-learning models.\n",
        "\n",
        "[PDF version](000_Intro.pdf)\n",
        "\n",
        "[Oreum Industries: Technical Resources](https://github.com/oreum-industries)\n",
        "\n",
        "<a href='https://oreum.io'><img src='../assets/img/Oreum_wordmark_black_right_aligned_S.png' width='300px' style=\"float: right;\"/></a><div style=\"clear:both\"/>\n",
        "\n",
        "---"
      ]
    },
    {
      "attachments": {},
      "cell_type": "markdown",
      "metadata": {
        "slideshow": {
          "slide_type": "subslide"
        }
      },
      "source": [
        "## _What is Copula Regression?_\n",
        "\n",
        "We seek to create _principled_ models that provide explanatory inference and predictions of Marginal distributions $M$\n",
        "that are jointly coupled by a Latent Copula $C$, using quantified uncertainty to support real-world decision-making.\n",
        "\n",
        "<img src='../plots/000_jointplot_corr.png' width='480px'/>"
      ]
    },
    {
      "cell_type": "markdown",
      "metadata": {
        "slideshow": {
          "slide_type": "fragment"
        }
      },
      "source": [
        "**Motivation:**\n",
        "\n",
        "+ A classic use-case for this model architecture (in the 2-dimensional setting) is insurance claims frequency and severity\n",
        "+ The `frequency` of claims and the `severity` of each claim each have marginal distributions and a natural covariance \n",
        "  $\\Sigma$ between marginals $M_{0}, M_{1}$\n",
        "+ The joint product `frequency * severity = Loss Cost` i.e. the dollar value of insurable losses\n",
        "+ If we use a naive model that doesn't account for the covariance between `frequency` and `severity`, then the model \n",
        "  predictions for `Loss Cost` can be hugely wrong!"
      ]
    },
    {
      "cell_type": "markdown",
      "metadata": {
        "slideshow": {
          "slide_type": "subslide"
        }
      },
      "source": [
        "<img src='../plots/000_jointplot_corr.png' width='360px'/>\n",
        "\n",
        "\n",
        "**Demonstration:**\n",
        "\n",
        "+ In this notebook:\n",
        "  + We create a small synthetic dataset of observations of two marginals $M_{0}, M_{1}$ which have \n",
        "    covariance $\\Sigma$, and also (because we can) a version of the marginals $M_{0x}, M_{1x}$ without covariance\n",
        "  + We compare the resulting values of the joint product $y = M_{0} * M_{1}$ vs $y = M_{0x} * M_{1x}$ and see that impact\n",
        "    of ignoring the covariance is substantial.\n",
        "+ In the rest of the reference guide:\n",
        "  + We create a series of principled copula models using advanced architectures and Bayesian inference to fit to the \n",
        "    data and estimate the covariance on $M_{0}, M_{1}$\n",
        "  + The first model is naive and ignores the covariance, the final model is very sophisticated and estimates the covariance\n",
        "  + We demonstrate **a substantial 32 percentage-point improvement in model accuracy** when using a copula-based model\n",
        "  + This correct estimation would likely make the difference between profitable pricing / accurate reserving, or greatly loss-making business over a portfolio."
      ]
    },
    {
      "cell_type": "markdown",
      "metadata": {
        "slideshow": {
          "slide_type": "subslide"
        }
      },
      "source": [
        "**General project approach**\n",
        "\n",
        "The emphasis in this project is to build a variety of models of increasing sophistication and demonstrate their usage. \n",
        "We strike a balance between building up concepts & methods vs practical application & worked examples in a `pymc`-based \n",
        "Bayesian workflow.\n",
        "\n",
        "We don't focus on specific analysis of the dataset, nor try to infer too much. The dataset is simply a good substrate on\n",
        "which to learn and demonstrate the variety of model architectures used herein.\n",
        "\n",
        "We evaluate the behaviour and performance of the models throughout the workflows, including several state-of-the-art \n",
        "methods unavailable to conventional max-likelihood / machine-learning models"
      ]
    },
    {
      "cell_type": "markdown",
      "metadata": {
        "slideshow": {
          "slide_type": "subslide"
        }
      },
      "source": [
        "**This series of Notebooks covers**\n",
        "\n",
        "+ `000_Intro.ipynb`: Orientiation and fundamental concepts \n",
        "+ `100_ModelA0.ipynb`: Core (naive) architecture: Create priors, marginal likelihoods, but no copula\n",
        "+ `101_ModelA1.ipynb`: Partial architecture (extends ModelA0): Include Gaussian copula (w/ Jacobian adjustment), and several technical innovations to let `pymc` work with the transformations\n",
        "+ `102_ModelA2.ipynb`: Full architecture (extends ModelA1): Include Jacobian Adjustment on transformed observations"
      ]
    },
    {
      "cell_type": "markdown",
      "metadata": {
        "slideshow": {
          "slide_type": "subslide"
        }
      },
      "source": [
        "**In this Notebook**\n",
        "\n",
        "We dive straight into **Orientation** and **Fundamental General Abstractions** with a simple real-world \n",
        "observational censored dataset, and then go on to demonstrate the theory and usage of an increasing sophistication of models.\n",
        "\n",
        "\n",
        "## Contents\n",
        "\n",
        "+ [Setup](#Setup)\n",
        "\n",
        "+ [Preamble: Why Bayes?](#Preamble:-Why-Bayes?)\n",
        "\n",
        "+ [1. Orientation: Copula Functions and Their Behaviour](#1.-Orientation:-Copula-Functions-and-Their-Behaviour)\n",
        "\n",
        "+ [2. Brief Technical Summary: The Copula Model designed in this Project](#2.-Brief-Technical-Summary:-The-Copula-Model-designed-in-this-Project)\n",
        "\n",
        "---\n",
        "\n",
        "---"
      ]
    },
    {
      "attachments": {},
      "cell_type": "markdown",
      "metadata": {
        "slideshow": {
          "slide_type": "skip"
        }
      },
      "source": [
        "# Setup"
      ]
    },
    {
      "attachments": {},
      "cell_type": "markdown",
      "metadata": {
        "slideshow": {
          "slide_type": "skip"
        }
      },
      "source": [
        "### Imports"
      ]
    },
    {
      "cell_type": "code",
      "execution_count": 1,
      "metadata": {
        "slideshow": {
          "slide_type": "skip"
        }
      },
      "outputs": [
        {
          "name": "stderr",
          "output_type": "stream",
          "text": [
            "/Users/jon/workspace/oreum/oreum_core/oreum_core/eda/plot.py:915: SyntaxWarning: invalid escape sequence '\\m'\n",
            "  f\"$\\mu = {mn:,.{j}f}$, \"  # for {yhat_nm}\n",
            "/Users/jon/workspace/oreum/oreum_core/oreum_core/eda/plot.py:948: SyntaxWarning: invalid escape sequence '\\g'\n",
            "  f\"$P_{{@{{{q:.2f}}}}} \\geq {{{qv:.{j}f}}}$\"\n"
          ]
        }
      ],
      "source": [
        "import sys\n",
        "from pathlib import Path\n",
        "\n",
        "import numpy as np\n",
        "import pandas as pd\n",
        "from oreum_core import eda\n",
        "from pyprojroot.here import here\n",
        "\n",
        "# prepend local project src files\n",
        "module_path = here('src').resolve(strict=True)\n",
        "if str(module_path) not in sys.path:\n",
        "    sys.path.insert(0, str(module_path))\n",
        "\n",
        "from engine import logger\n",
        "from synthetic.create_copula import CopulaBuilder\n",
        "\n",
        "# autoreload local modules to allow local dev\n",
        "%load_ext autoreload\n",
        "%autoreload 2\n",
        "import warnings  # noqa\n",
        "warnings.simplefilter(action='ignore', category=FutureWarning)  # noqa\n",
        "warnings.simplefilter(action='ignore', category=UserWarning)  # noqa\n",
        "import seaborn as sns"
      ]
    },
    {
      "attachments": {},
      "cell_type": "markdown",
      "metadata": {
        "slideshow": {
          "slide_type": "skip"
        }
      },
      "source": [
        "### Notebook config"
      ]
    },
    {
      "cell_type": "code",
      "execution_count": 2,
      "metadata": {
        "slideshow": {
          "slide_type": "skip"
        }
      },
      "outputs": [],
      "source": [
        "%matplotlib inline\n",
        "%config InlineBackend.figure_format = 'retina'\n",
        "\n",
        "log = logger.get_logger('000_Intro', notebook=True)\n",
        "_ = logger.get_logger('oreum_core', notebook=True)"
      ]
    },
    {
      "attachments": {},
      "cell_type": "markdown",
      "metadata": {
        "slideshow": {
          "slide_type": "skip"
        }
      },
      "source": [
        "### Local Functions and Global Vars"
      ]
    },
    {
      "cell_type": "code",
      "execution_count": 3,
      "metadata": {
        "slideshow": {
          "slide_type": "skip"
        }
      },
      "outputs": [],
      "source": [
        "RSD = 42\n",
        "RNG = np.random.default_rng(seed=RSD)"
      ]
    },
    {
      "attachments": {},
      "cell_type": "markdown",
      "metadata": {
        "slideshow": {
          "slide_type": "skip"
        }
      },
      "source": [
        "### Data Connections"
      ]
    },
    {
      "cell_type": "code",
      "execution_count": 4,
      "metadata": {
        "slideshow": {
          "slide_type": "skip"
        }
      },
      "outputs": [],
      "source": [
        "figio = eda.FigureIO(here(Path('plots')).resolve(strict=True))"
      ]
    },
    {
      "attachments": {},
      "cell_type": "markdown",
      "metadata": {
        "slideshow": {
          "slide_type": "skip"
        }
      },
      "source": [
        "---\n",
        "\n",
        "---"
      ]
    },
    {
      "cell_type": "markdown",
      "metadata": {
        "slideshow": {
          "slide_type": "slide"
        }
      },
      "source": [
        "# Preamble: Why Bayes?"
      ]
    },
    {
      "cell_type": "markdown",
      "metadata": {
        "slideshow": {
          "slide_type": "subslide"
        }
      },
      "source": [
        "## We gain massive advantage by using a Bayesian Framework"
      ]
    },
    {
      "cell_type": "markdown",
      "metadata": {},
      "source": [
        "We specifically use [**Bayesian Inference**](https://betanalpha.github.io/assets/case_studies/modeling_and_inference.html)\n",
        "rather than Frequentist Max-Likelihood methods for many reasons, including:\n",
        "\n",
        "|  | Bayesian Inference | Frequentist Max-Likelihood   | \n",
        "| --- | --- | ---|\n",
        "| **General formulation** $\\rightarrow$<br/> **Desirable Trait** $\\downarrow$ | _Bayes' Rule_ $$\\underbrace{P(\\hat{\\mathcal{H}}\\|D)}_{\\text{posterior}} = \\frac{\\overbrace{P(D\\|\\mathcal{H})}^{\\text{likelihood}} \\cdot \\overbrace{P(\\mathcal{H})}^{\\text{prior}}}{\\underbrace{P(D)}_{\\text{evidence}}} $$ | _MLE_ $$\\hat{\\mathcal{H}}^{\\text{MLE}} \\propto \\arg\\max_{\\mathcal{H}} P(D\\|\\mathcal{H})$$ |\n",
        "| **_Principled_ model structure represents hypothesis about the data-generating process** | **Very strong** <br/> Can build bespoke arbitrary and hierarchical structures of parameters to map to the real-world data-generating process. | **Weak** <br/> Can only state structure under strict limited assumptions of model statistical validity. |\n",
        "| **Model parameters and their initial values represent domain expert knowledge** | **Very strong** <br/>Marginal prior distributions represent real-world probability of parameter values before any data is seen. | **Very weak** <br/> No concept of priors. Lack of joint probability distribution can lead to discontinuities in parameter values. |\n",
        "| **Robust parameter fitting process** | **Strong** <br/> Estimate full joint posterior probability mass distribution for parameters - more stable and representative of the expectation for the parameter values. Sampling can be a computationally expensive process. | **Weak** <br/> Estimate single-point max-aposterioi-likelihood (density) of  parameters - this can be far outside the probability mass and so is prone to overfitting and only correct in the limit of infinite data. But optimization method can be computationally cheap. |\n",
        "| **Fitted parameters have meaningful summary statistics for inference** | **Very strong** <br/>Full marginal probability distributions can be interpreted exactly as probabilities. | **Weak** <br/>Point estimates only have meaningful summary statistics under strict limited assumptions of model statistical validity. |\n",
        "\n",
        "\n",
        "continues ..."
      ]
    },
    {
      "cell_type": "markdown",
      "metadata": {
        "slideshow": {
          "slide_type": "subslide"
        }
      },
      "source": [
        "... continued\n",
        "\n",
        "| Desirable Trait | Bayesian Inference | Frequentist Max-Likelihood |\n",
        "| --- | --- | ---|\n",
        "| **Robust model evaluation process** | **Strong** <br/>Use entire dataset, evaluate via Leave-One-Out Cross Validation (best theoretically possible). | **Weak** <br/> Cross-validation rarely seen in practice, even if used, rarely better than 5-fold CV. Simplistic method can be computationally cheap. |\n",
        "| **Predictions made with quantified variance** | **Very strong** <br/>Predictions made using full posterior probability distributions, so predictions have full empirical probability distributions. | **Weak** <br/>Predictions using point estimates can be bootstrapped, but predictions only have interpretation under strict limited assumptions of model validity. |\n",
        "| **Handle imbalanced, high cardinality & hierarchical factor features** | **Very strong** <br/>Can introduce partial-pooling to automatically balance factors through hierarchical priors. | **Weak** <br/>Difficult to introduce partial-pooling (aka mixed random effects) without affecting strict limited assumptions of model validity. |\n",
        "| **Handle skewed / multimodal / extreme value target variable** | **Very strong** <br/>Represent the model likelihood as any arbitrary probability distribution, including mixture (compound) functions e.g. a zero-inflated Weibull. | **Weak** <br/>Represent model likelihood with a usually very limited set of distributions. Very difficult to create mixture compound functions. |\n",
        "| **Handle small datasets** | **Very strong** <br/>Bayesian concept assumes that there is a probable range of values for each parameter, and that we evidence our prior on any amount of data (even very small counts). | **Very weak** <br/>Frequentist concept assumes that there is a single true value for each parameter and that we only discover that value in the limit (of infinite observations). |\n",
        "| **Automatically impute missing data** | **Very strong** <br/>Establish a prior for each datapoint, evidence on the available data within the context of the model, to automatically impute missing values. | **Very weak** <br/>No inherent method. Usually impute as a pre-processing step with weak non-modelled methods. |"
      ]
    },
    {
      "cell_type": "markdown",
      "metadata": {
        "slideshow": {
          "slide_type": "subslide"
        }
      },
      "source": [
        "## Practical Implementations of Bayesian Inference"
      ]
    },
    {
      "cell_type": "markdown",
      "metadata": {
        "slideshow": {
          "slide_type": "fragment"
        }
      },
      "source": [
        "We briefly referenced _Bayes Rule_ above, which is a useful mnemonic when discussing Bayesian Inference, but in practice\n",
        "the crux of putting these advanced statistical techniques into practice is estimating the evidence $P(D)$ i.e. the \n",
        "probability of observing the data that we use to evidence the model\n",
        "\n",
        "$$\n",
        "\\begin{aligned}\n",
        "\\underbrace{P(\\hat{\\mathcal{H}}|D)}_{\\text{posterior}} &= \n",
        "    \\frac{\\overbrace{P(D|\\mathcal{H})}^{\\text{likelihood}} \\cdot \n",
        "    \\overbrace{P(\\mathcal{H})}^{\\text{prior}}}{\\underbrace{P(D)}_{\\text{evidence}}} \\\\\n",
        "\\\\\n",
        "\\text{...where:} \\\\\n",
        "\\\\\n",
        "P(D) &\\sim \\int_{\\Theta} P(D, \\theta)\\ d\\theta \\\\\n",
        "\\end{aligned}\n",
        "$$\n",
        "\n",
        "This joint probability $P(D, \\theta)$ of data $D$ and parameters $\\theta$ requires an almost impossible-to-solve integral\n",
        "over parameter-space $\\Theta$. Rather than attempt to calculate that integral, we do something that sounds far more \n",
        "difficult, but given modern computing capabilities is actually practical."
      ]
    },
    {
      "cell_type": "markdown",
      "metadata": {
        "slideshow": {
          "slide_type": "subslide"
        }
      },
      "source": [
        "### We use a Bleeding-edge MCMC Toolkit for Bayesian Inference: `pymc` & `arviz`\n",
        "\n",
        "We use **Markov Chain Monte-Carlo (MCMC)** sampling to take a series of _ergodic_, _partly-reversible_, _partly-randomised_ \n",
        "samples of model parameters $\\theta$, and at each step compute the ratio of log-likelihoods $\\log P(D|\\mathcal{H})$ \n",
        "between a starting position (current values) $\\theta_{p0}$ and proposed \"sampled\" position $\\theta_{p}$ in parameter \n",
        "space, so as to reduce that log-likelihood (whilst exploring the parameter space). \n",
        "\n",
        "This results in a posterior estimate $P(\\hat{\\theta}|D)$:\n",
        "\n",
        "$$\n",
        "\\begin{aligned}\n",
        "P(\\hat{\\theta}|D) &\\sim \n",
        "    \\frac{\\overbrace{P(D|\\theta_{p})}^{\\text{likelihood @ proposal}} \\cdot \\overbrace{P(\\theta_{p})}^{\\text{prior @ proposal}}}\n",
        "    {\\underbrace{P(D|\\theta_{p0})}_{\\text{likelihood @ current}} \\cdot \\underbrace{P(\\theta_{p0})}_{\\text{prior @ current}}}\n",
        "\\end{aligned}\n",
        "$$\n",
        "\n",
        "This is the heart of MCMC sampling: for detailed practical explanations see [Betancourt, 2021](https://betanalpha.github.io/assets/case_studies/sampling.html), [Carroll, 2019](https://colindcarroll.com/2019/04/11/hamiltonian-monte-carlo-from-scratch/), and [Tweicki, 2015](https://twiecki.io/blog/2015/11/10/mcmc-sampling/)\n",
        "\n",
        "We use the bleeding-edge [`pymc`](https://www.pymc.io/welcome.html) and [`arviz`](https://python.arviz.org/en/stable/)\n",
        "Python packages to provide the full Bayesian toolkit that we require, including advanced sampling, probabilistic programming, \n",
        "statistical inferences, model evaluation and comparison, and more.\n",
        "\n",
        "<img src='../assets/img/logos.png' width='600px'/>"
      ]
    },
    {
      "cell_type": "markdown",
      "metadata": {
        "slideshow": {
          "slide_type": "fragment"
        }
      },
      "source": [
        "---\n",
        "\n",
        "---"
      ]
    },
    {
      "attachments": {},
      "cell_type": "markdown",
      "metadata": {
        "slideshow": {
          "slide_type": "slide"
        }
      },
      "source": [
        "# 1. Orientation: Copula Functions and Their Behaviour"
      ]
    },
    {
      "attachments": {},
      "cell_type": "markdown",
      "metadata": {
        "slideshow": {
          "slide_type": "subslide"
        }
      },
      "source": [
        "## 1.1 Create Synthetic Copula Dataset"
      ]
    },
    {
      "attachments": {},
      "cell_type": "markdown",
      "metadata": {
        "slideshow": {
          "slide_type": "fragment"
        }
      },
      "source": [
        "We can learn a lot by creating a synthetic copula dataset using a \"forward-pass\":\n",
        "\n",
        "1. Start with random data $C$ sampled from the PDF of a Latent Copula function $\\square_{\\mathfrak{C}}$ with 2-dimensions\n",
        "$$(C_{0}, C_{1}) \\sim \\square_{\\mathfrak{C}}$$\n",
        "\n",
        "2. Transform each dimension of the coupled data through the CDF of the copula function $\\Phi_{\\mathfrak{C}}$ to yield \n",
        "   data distributed according to a Latent Uniform distribution $U$\n",
        "$$(U_{0}, U_{1}) = \\Phi_{\\mathfrak{C}}(C_{0}, C_{1})$$\n",
        "\n",
        "3. Transform each dimension of now-uniform data through the Inverse CDF of our chosen marginal distribution \n",
        "   $\\Phi^{-1}_{\\mathfrak{M}}$ to yield data distributed according to \"observed\" Marginal distribution(s) $M$\n",
        "$$(M_{0}, M_{1}) = \\Phi^{-1}_{\\mathfrak{M}}(U_{0}, U_{1})$$\n",
        "\n",
        "In the following slides we'll plot the distributions and describe the transformations. Also see project class\n",
        "`synthetic.create_copula.CopulaBuilder` for details\n",
        "\n",
        "Note we create $60$ observations split into 2 sets: $50$ for `train` (in-sample) and $10$ for `holdout` (out-of-sample)"
      ]
    },
    {
      "cell_type": "code",
      "execution_count": 5,
      "metadata": {
        "slideshow": {
          "slide_type": "skip"
        }
      },
      "outputs": [
        {
          "data": {
            "text/plain": [
              "{'c_r': -0.7,\n",
              " 'c_cov': array([[ 1. , -0.7],\n",
              "        [-0.7,  1. ]]),\n",
              " 'm0_kind': 'lognorm',\n",
              " 'm1_kind': 'lognorm',\n",
              " 'm0_params': {'mu': 0.2, 'sigma': 0.5},\n",
              " 'm1_params': {'mu': 2.0, 'sigma': 1.0}}"
            ]
          },
          "execution_count": 5,
          "metadata": {},
          "output_type": "execute_result"
        }
      ],
      "source": [
        "cb = CopulaBuilder()\n",
        "df_all = cb.create(nobs=60)\n",
        "cb.ref_vals"
      ]
    },
    {
      "cell_type": "code",
      "execution_count": 6,
      "metadata": {
        "slideshow": {
          "slide_type": "skip"
        }
      },
      "outputs": [],
      "source": [
        "perm = RNG.permutation(df_all.index.values)\n",
        "df_train = df_all.loc[perm[:50]]\n",
        "df_holdout = df_all.loc[perm[50:]]"
      ]
    },
    {
      "cell_type": "code",
      "execution_count": 7,
      "metadata": {
        "slideshow": {
          "slide_type": "skip"
        }
      },
      "outputs": [
        {
          "data": {
            "text/html": [
              "<div>\n",
              "<style scoped>\n",
              "    .dataframe tbody tr th:only-of-type {\n",
              "        vertical-align: middle;\n",
              "    }\n",
              "\n",
              "    .dataframe tbody tr th {\n",
              "        vertical-align: top;\n",
              "    }\n",
              "\n",
              "    .dataframe thead th {\n",
              "        text-align: right;\n",
              "    }\n",
              "</style>\n",
              "<table border=\"1\" class=\"dataframe\">\n",
              "  <thead>\n",
              "    <tr style=\"text-align: right;\">\n",
              "      <th></th>\n",
              "      <th>dtype</th>\n",
              "      <th>count_unique</th>\n",
              "      <th>top</th>\n",
              "      <th>freq</th>\n",
              "      <th>sum</th>\n",
              "      <th>mean</th>\n",
              "      <th>std</th>\n",
              "      <th>min</th>\n",
              "      <th>25%</th>\n",
              "      <th>50%</th>\n",
              "      <th>75%</th>\n",
              "      <th>max</th>\n",
              "    </tr>\n",
              "    <tr>\n",
              "      <th>ft</th>\n",
              "      <th></th>\n",
              "      <th></th>\n",
              "      <th></th>\n",
              "      <th></th>\n",
              "      <th></th>\n",
              "      <th></th>\n",
              "      <th></th>\n",
              "      <th></th>\n",
              "      <th></th>\n",
              "      <th></th>\n",
              "      <th></th>\n",
              "      <th></th>\n",
              "    </tr>\n",
              "  </thead>\n",
              "  <tbody>\n",
              "    <tr>\n",
              "      <th>index: oid</th>\n",
              "      <td>object</td>\n",
              "      <td>50</td>\n",
              "      <td>i028</td>\n",
              "      <td>1</td>\n",
              "      <td>NaN</td>\n",
              "      <td>NaN</td>\n",
              "      <td>NaN</td>\n",
              "      <td>i000</td>\n",
              "      <td>NaN</td>\n",
              "      <td>NaN</td>\n",
              "      <td>NaN</td>\n",
              "      <td>i059</td>\n",
              "    </tr>\n",
              "    <tr>\n",
              "      <th>c0</th>\n",
              "      <td>float64</td>\n",
              "      <td>NaN</td>\n",
              "      <td>NaN</td>\n",
              "      <td>NaN</td>\n",
              "      <td>-1.63</td>\n",
              "      <td>-0.03</td>\n",
              "      <td>0.79</td>\n",
              "      <td>-2.13</td>\n",
              "      <td>-0.64</td>\n",
              "      <td>-0.06</td>\n",
              "      <td>0.68</td>\n",
              "      <td>1.42</td>\n",
              "    </tr>\n",
              "    <tr>\n",
              "      <th>c1</th>\n",
              "      <td>float64</td>\n",
              "      <td>NaN</td>\n",
              "      <td>NaN</td>\n",
              "      <td>NaN</td>\n",
              "      <td>-1.85</td>\n",
              "      <td>-0.04</td>\n",
              "      <td>0.86</td>\n",
              "      <td>-2.12</td>\n",
              "      <td>-0.5</td>\n",
              "      <td>0.06</td>\n",
              "      <td>0.56</td>\n",
              "      <td>1.82</td>\n",
              "    </tr>\n",
              "    <tr>\n",
              "      <th>u0</th>\n",
              "      <td>float64</td>\n",
              "      <td>NaN</td>\n",
              "      <td>NaN</td>\n",
              "      <td>NaN</td>\n",
              "      <td>24.61</td>\n",
              "      <td>0.49</td>\n",
              "      <td>0.26</td>\n",
              "      <td>0.02</td>\n",
              "      <td>0.26</td>\n",
              "      <td>0.48</td>\n",
              "      <td>0.75</td>\n",
              "      <td>0.92</td>\n",
              "    </tr>\n",
              "    <tr>\n",
              "      <th>u1</th>\n",
              "      <td>float64</td>\n",
              "      <td>NaN</td>\n",
              "      <td>NaN</td>\n",
              "      <td>NaN</td>\n",
              "      <td>24.84</td>\n",
              "      <td>0.5</td>\n",
              "      <td>0.27</td>\n",
              "      <td>0.02</td>\n",
              "      <td>0.31</td>\n",
              "      <td>0.52</td>\n",
              "      <td>0.71</td>\n",
              "      <td>0.97</td>\n",
              "    </tr>\n",
              "    <tr>\n",
              "      <th>m0</th>\n",
              "      <td>float64</td>\n",
              "      <td>NaN</td>\n",
              "      <td>NaN</td>\n",
              "      <td>NaN</td>\n",
              "      <td>64.71</td>\n",
              "      <td>1.29</td>\n",
              "      <td>0.5</td>\n",
              "      <td>0.42</td>\n",
              "      <td>0.89</td>\n",
              "      <td>1.19</td>\n",
              "      <td>1.72</td>\n",
              "      <td>2.49</td>\n",
              "    </tr>\n",
              "    <tr>\n",
              "      <th>m1</th>\n",
              "      <td>float64</td>\n",
              "      <td>NaN</td>\n",
              "      <td>NaN</td>\n",
              "      <td>NaN</td>\n",
              "      <td>493.00</td>\n",
              "      <td>9.86</td>\n",
              "      <td>8.25</td>\n",
              "      <td>0.89</td>\n",
              "      <td>4.47</td>\n",
              "      <td>7.84</td>\n",
              "      <td>12.93</td>\n",
              "      <td>45.47</td>\n",
              "    </tr>\n",
              "    <tr>\n",
              "      <th>c0x</th>\n",
              "      <td>float64</td>\n",
              "      <td>NaN</td>\n",
              "      <td>NaN</td>\n",
              "      <td>NaN</td>\n",
              "      <td>-5.38</td>\n",
              "      <td>-0.11</td>\n",
              "      <td>0.91</td>\n",
              "      <td>-2.62</td>\n",
              "      <td>-0.58</td>\n",
              "      <td>-0.0</td>\n",
              "      <td>0.34</td>\n",
              "      <td>1.89</td>\n",
              "    </tr>\n",
              "    <tr>\n",
              "      <th>c1x</th>\n",
              "      <td>float64</td>\n",
              "      <td>NaN</td>\n",
              "      <td>NaN</td>\n",
              "      <td>NaN</td>\n",
              "      <td>-5.52</td>\n",
              "      <td>-0.11</td>\n",
              "      <td>1.0</td>\n",
              "      <td>-1.99</td>\n",
              "      <td>-0.62</td>\n",
              "      <td>-0.21</td>\n",
              "      <td>0.54</td>\n",
              "      <td>2.46</td>\n",
              "    </tr>\n",
              "    <tr>\n",
              "      <th>u0x</th>\n",
              "      <td>float64</td>\n",
              "      <td>NaN</td>\n",
              "      <td>NaN</td>\n",
              "      <td>NaN</td>\n",
              "      <td>23.59</td>\n",
              "      <td>0.47</td>\n",
              "      <td>0.27</td>\n",
              "      <td>0.0</td>\n",
              "      <td>0.28</td>\n",
              "      <td>0.5</td>\n",
              "      <td>0.63</td>\n",
              "      <td>0.97</td>\n",
              "    </tr>\n",
              "    <tr>\n",
              "      <th>u1x</th>\n",
              "      <td>float64</td>\n",
              "      <td>NaN</td>\n",
              "      <td>NaN</td>\n",
              "      <td>NaN</td>\n",
              "      <td>23.36</td>\n",
              "      <td>0.47</td>\n",
              "      <td>0.29</td>\n",
              "      <td>0.02</td>\n",
              "      <td>0.27</td>\n",
              "      <td>0.42</td>\n",
              "      <td>0.7</td>\n",
              "      <td>0.99</td>\n",
              "    </tr>\n",
              "    <tr>\n",
              "      <th>m0x</th>\n",
              "      <td>float64</td>\n",
              "      <td>NaN</td>\n",
              "      <td>NaN</td>\n",
              "      <td>NaN</td>\n",
              "      <td>63.91</td>\n",
              "      <td>1.28</td>\n",
              "      <td>0.59</td>\n",
              "      <td>0.33</td>\n",
              "      <td>0.91</td>\n",
              "      <td>1.22</td>\n",
              "      <td>1.45</td>\n",
              "      <td>3.14</td>\n",
              "    </tr>\n",
              "    <tr>\n",
              "      <th>m1x</th>\n",
              "      <td>float64</td>\n",
              "      <td>NaN</td>\n",
              "      <td>NaN</td>\n",
              "      <td>NaN</td>\n",
              "      <td>546.02</td>\n",
              "      <td>10.92</td>\n",
              "      <td>14.19</td>\n",
              "      <td>1.01</td>\n",
              "      <td>3.96</td>\n",
              "      <td>6.02</td>\n",
              "      <td>12.62</td>\n",
              "      <td>86.77</td>\n",
              "    </tr>\n",
              "  </tbody>\n",
              "</table>\n",
              "</div>"
            ],
            "text/plain": [
              "              dtype count_unique   top freq     sum   mean    std   min   25%  \\\n",
              "ft                                                                              \n",
              "index: oid   object           50  i028    1     NaN    NaN    NaN  i000   NaN   \n",
              "c0          float64          NaN   NaN  NaN   -1.63  -0.03   0.79 -2.13 -0.64   \n",
              "c1          float64          NaN   NaN  NaN   -1.85  -0.04   0.86 -2.12  -0.5   \n",
              "u0          float64          NaN   NaN  NaN   24.61   0.49   0.26  0.02  0.26   \n",
              "u1          float64          NaN   NaN  NaN   24.84    0.5   0.27  0.02  0.31   \n",
              "m0          float64          NaN   NaN  NaN   64.71   1.29    0.5  0.42  0.89   \n",
              "m1          float64          NaN   NaN  NaN  493.00   9.86   8.25  0.89  4.47   \n",
              "c0x         float64          NaN   NaN  NaN   -5.38  -0.11   0.91 -2.62 -0.58   \n",
              "c1x         float64          NaN   NaN  NaN   -5.52  -0.11    1.0 -1.99 -0.62   \n",
              "u0x         float64          NaN   NaN  NaN   23.59   0.47   0.27   0.0  0.28   \n",
              "u1x         float64          NaN   NaN  NaN   23.36   0.47   0.29  0.02  0.27   \n",
              "m0x         float64          NaN   NaN  NaN   63.91   1.28   0.59  0.33  0.91   \n",
              "m1x         float64          NaN   NaN  NaN  546.02  10.92  14.19  1.01  3.96   \n",
              "\n",
              "             50%    75%    max  \n",
              "ft                              \n",
              "index: oid   NaN    NaN   i059  \n",
              "c0         -0.06   0.68   1.42  \n",
              "c1          0.06   0.56   1.82  \n",
              "u0          0.48   0.75   0.92  \n",
              "u1          0.52   0.71   0.97  \n",
              "m0          1.19   1.72   2.49  \n",
              "m1          7.84  12.93  45.47  \n",
              "c0x         -0.0   0.34   1.89  \n",
              "c1x        -0.21   0.54   2.46  \n",
              "u0x          0.5   0.63   0.97  \n",
              "u1x         0.42    0.7   0.99  \n",
              "m0x         1.22   1.45   3.14  \n",
              "m1x         6.02  12.62  86.77  "
            ]
          },
          "metadata": {},
          "output_type": "display_data"
        },
        {
          "data": {
            "text/plain": [
              "'Shape: (50, 13), Memsize 0.0 MB'"
            ]
          },
          "metadata": {},
          "output_type": "display_data"
        }
      ],
      "source": [
        "eda.describe(df_train, nobs=0, get_counts=False)"
      ]
    },
    {
      "cell_type": "markdown",
      "metadata": {
        "slideshow": {
          "slide_type": "subslide"
        }
      },
      "source": [
        "## 1.2 Visualise the Synthetic Observations"
      ]
    },
    {
      "attachments": {},
      "cell_type": "markdown",
      "metadata": {
        "slideshow": {
          "slide_type": "subslide"
        }
      },
      "source": [
        "### 1.2.1 View the Latent Copula (an MvN)"
      ]
    },
    {
      "cell_type": "markdown",
      "metadata": {},
      "source": [
        "In this forward-pass to create the synthetic data, we firstly create $50$ observations of\n",
        "of a 2-dimensional Multivariate Normal distribution with covariance $\\Sigma$\n",
        "\n",
        "$$\n",
        "\\begin{aligned}\n",
        "(C_{0}, C_{1}) &\\sim \\square_{\\mathfrak{C}} \\\\\n",
        "            &\\sim \\text{MultivariateNormal}(\\mu, \\Sigma, \\text{shape}=2)\n",
        "\\end{aligned}\n",
        "$$\n",
        "\n",
        "This forms our Latent Copula (a Gaussian), and this is where we could get creative and use any number of alternative\n",
        "copula functions from the literature (e.g. Clayton, Frank, Gumbel, etc) or even create our own: the copula marginals\n",
        "dont have to be the same distribution"
      ]
    },
    {
      "cell_type": "code",
      "execution_count": 8,
      "metadata": {
        "slideshow": {
          "slide_type": "fragment"
        }
      },
      "outputs": [
        {
          "name": "stderr",
          "output_type": "stream",
          "text": [
            "<>:2: SyntaxWarning: invalid escape sequence '\\S'\n",
            "<>:2: SyntaxWarning: invalid escape sequence '\\S'\n",
            "/var/folders/yr/x3q_mhvx0l5djfrgtr_06qcw0000gn/T/ipykernel_60354/2086184380.py:2: SyntaxWarning: invalid escape sequence '\\S'\n",
            "  txtadd=f'Latent Copula = $MvN(0, \\Sigma={cb.ref_vals[\"c_cov\"].flatten().tolist()})$')\n",
            "/var/folders/yr/x3q_mhvx0l5djfrgtr_06qcw0000gn/T/ipykernel_60354/2086184380.py:2: SyntaxWarning: invalid escape sequence '\\S'\n",
            "  txtadd=f'Latent Copula = $MvN(0, \\Sigma={cb.ref_vals[\"c_cov\"].flatten().tolist()})$')\n",
            "/Users/jon/workspace/oreum/oreum_core/oreum_core/eda/plot.py:915: SyntaxWarning: invalid escape sequence '\\m'\n",
            "  f\"$\\mu = {mn:,.{j}f}$, \"  # for {yhat_nm}\n",
            "/Users/jon/workspace/oreum/oreum_core/oreum_core/eda/plot.py:948: SyntaxWarning: invalid escape sequence '\\g'\n",
            "  f\"$P_{{@{{{q:.2f}}}}} \\geq {{{qv:.{j}f}}}$\"\n"
          ]
        },
        {
          "ename": "AttributeError",
          "evalue": "'QuadContourSet' object has no attribute 'collections'",
          "output_type": "error",
          "traceback": [
            "\u001b[0;31m---------------------------------------------------------------------------\u001b[0m",
            "\u001b[0;31mAttributeError\u001b[0m                            Traceback (most recent call last)",
            "Cell \u001b[0;32mIn[8], line 1\u001b[0m\n\u001b[0;32m----> 1\u001b[0m f \u001b[38;5;241m=\u001b[39m \u001b[43meda\u001b[49m\u001b[38;5;241;43m.\u001b[39;49m\u001b[43mplot_joint_numeric\u001b[49m\u001b[43m(\u001b[49m\u001b[43mdata\u001b[49m\u001b[38;5;241;43m=\u001b[39;49m\u001b[43mdf_train\u001b[49m\u001b[43m,\u001b[49m\u001b[43m \u001b[49m\u001b[43mft0\u001b[49m\u001b[38;5;241;43m=\u001b[39;49m\u001b[38;5;124;43m'\u001b[39;49m\u001b[38;5;124;43mc0\u001b[39;49m\u001b[38;5;124;43m'\u001b[39;49m\u001b[43m,\u001b[49m\u001b[43m \u001b[49m\u001b[43mft1\u001b[49m\u001b[38;5;241;43m=\u001b[39;49m\u001b[38;5;124;43m'\u001b[39;49m\u001b[38;5;124;43mc1\u001b[39;49m\u001b[38;5;124;43m'\u001b[39;49m\u001b[43m,\u001b[49m\u001b[43m \u001b[49m\u001b[43mkind\u001b[49m\u001b[38;5;241;43m=\u001b[39;49m\u001b[38;5;124;43m'\u001b[39;49m\u001b[38;5;124;43mkde+scatter\u001b[39;49m\u001b[38;5;124;43m'\u001b[39;49m\u001b[43m,\u001b[49m\u001b[43m \u001b[49m\n\u001b[1;32m      2\u001b[0m \u001b[43m            \u001b[49m\u001b[43mtxtadd\u001b[49m\u001b[38;5;241;43m=\u001b[39;49m\u001b[38;5;124;43mf\u001b[39;49m\u001b[38;5;124;43m'\u001b[39;49m\u001b[38;5;124;43mLatent Copula = $MvN(0, \u001b[39;49m\u001b[38;5;124;43m\\\u001b[39;49m\u001b[38;5;124;43mSigma=\u001b[39;49m\u001b[38;5;132;43;01m{\u001b[39;49;00m\u001b[43mcb\u001b[49m\u001b[38;5;241;43m.\u001b[39;49m\u001b[43mref_vals\u001b[49m\u001b[43m[\u001b[49m\u001b[38;5;124;43m\"\u001b[39;49m\u001b[38;5;124;43mc_cov\u001b[39;49m\u001b[38;5;124;43m\"\u001b[39;49m\u001b[43m]\u001b[49m\u001b[38;5;241;43m.\u001b[39;49m\u001b[43mflatten\u001b[49m\u001b[43m(\u001b[49m\u001b[43m)\u001b[49m\u001b[38;5;241;43m.\u001b[39;49m\u001b[43mtolist\u001b[49m\u001b[43m(\u001b[49m\u001b[43m)\u001b[49m\u001b[38;5;132;43;01m}\u001b[39;49;00m\u001b[38;5;124;43m)$\u001b[39;49m\u001b[38;5;124;43m'\u001b[39;49m\u001b[43m)\u001b[49m\n",
            "File \u001b[0;32m~/workspace/oreum/oreum_core/oreum_core/eda/plot.py:468\u001b[0m, in \u001b[0;36mplot_joint_numeric\u001b[0;34m(data, ft0, ft1, hue, kind, height, kdefill, log, colori, nsamp, linreg, legendpos, palette_type, palette, eq, overplot, **kwargs)\u001b[0m\n\u001b[1;32m    466\u001b[0m     _ \u001b[38;5;241m=\u001b[39m gd\u001b[38;5;241m.\u001b[39mplot_marginals(sns\u001b[38;5;241m.\u001b[39mrugplot, \u001b[38;5;241m*\u001b[39m\u001b[38;5;241m*\u001b[39mrug_kws)\n\u001b[1;32m    467\u001b[0m \u001b[38;5;28;01melif\u001b[39;00m kind \u001b[38;5;241m==\u001b[39m \u001b[38;5;124m\"\u001b[39m\u001b[38;5;124mkde+scatter\u001b[39m\u001b[38;5;124m\"\u001b[39m:\n\u001b[0;32m--> 468\u001b[0m     _ \u001b[38;5;241m=\u001b[39m \u001b[43mgd\u001b[49m\u001b[38;5;241;43m.\u001b[39;49m\u001b[43mplot_joint\u001b[49m\u001b[43m(\u001b[49m\u001b[43msns\u001b[49m\u001b[38;5;241;43m.\u001b[39;49m\u001b[43mkdeplot\u001b[49m\u001b[43m,\u001b[49m\u001b[43m \u001b[49m\u001b[38;5;241;43m*\u001b[39;49m\u001b[38;5;241;43m*\u001b[39;49m\u001b[43mkde_kws\u001b[49m\u001b[43m)\u001b[49m\n\u001b[1;32m    469\u001b[0m     _ \u001b[38;5;241m=\u001b[39m gd\u001b[38;5;241m.\u001b[39mplot_joint(sns\u001b[38;5;241m.\u001b[39mscatterplot, \u001b[38;5;241m*\u001b[39m\u001b[38;5;241m*\u001b[39mscatter_kws)\n\u001b[1;32m    470\u001b[0m     _ \u001b[38;5;241m=\u001b[39m gd\u001b[38;5;241m.\u001b[39mplot_marginals(sns\u001b[38;5;241m.\u001b[39mrugplot, \u001b[38;5;241m*\u001b[39m\u001b[38;5;241m*\u001b[39mrug_kws)\n",
            "File \u001b[0;32m~/miniforge/envs/oreum_copula/lib/python3.12/site-packages/seaborn/axisgrid.py:1826\u001b[0m, in \u001b[0;36mJointGrid.plot_joint\u001b[0;34m(self, func, **kwargs)\u001b[0m\n\u001b[1;32m   1823\u001b[0m     \u001b[38;5;28mself\u001b[39m\u001b[38;5;241m.\u001b[39m_inject_kwargs(func, kwargs, \u001b[38;5;28mself\u001b[39m\u001b[38;5;241m.\u001b[39m_hue_params)\n\u001b[1;32m   1825\u001b[0m \u001b[38;5;28;01mif\u001b[39;00m \u001b[38;5;28mstr\u001b[39m(func\u001b[38;5;241m.\u001b[39m\u001b[38;5;18m__module__\u001b[39m)\u001b[38;5;241m.\u001b[39mstartswith(\u001b[38;5;124m\"\u001b[39m\u001b[38;5;124mseaborn\u001b[39m\u001b[38;5;124m\"\u001b[39m):\n\u001b[0;32m-> 1826\u001b[0m     \u001b[43mfunc\u001b[49m\u001b[43m(\u001b[49m\u001b[43mx\u001b[49m\u001b[38;5;241;43m=\u001b[39;49m\u001b[38;5;28;43mself\u001b[39;49m\u001b[38;5;241;43m.\u001b[39;49m\u001b[43mx\u001b[49m\u001b[43m,\u001b[49m\u001b[43m \u001b[49m\u001b[43my\u001b[49m\u001b[38;5;241;43m=\u001b[39;49m\u001b[38;5;28;43mself\u001b[39;49m\u001b[38;5;241;43m.\u001b[39;49m\u001b[43my\u001b[49m\u001b[43m,\u001b[49m\u001b[43m \u001b[49m\u001b[38;5;241;43m*\u001b[39;49m\u001b[38;5;241;43m*\u001b[39;49m\u001b[43mkwargs\u001b[49m\u001b[43m)\u001b[49m\n\u001b[1;32m   1827\u001b[0m \u001b[38;5;28;01melse\u001b[39;00m:\n\u001b[1;32m   1828\u001b[0m     func(\u001b[38;5;28mself\u001b[39m\u001b[38;5;241m.\u001b[39mx, \u001b[38;5;28mself\u001b[39m\u001b[38;5;241m.\u001b[39my, \u001b[38;5;241m*\u001b[39m\u001b[38;5;241m*\u001b[39mkwargs)\n",
            "File \u001b[0;32m~/miniforge/envs/oreum_copula/lib/python3.12/site-packages/seaborn/distributions.py:1731\u001b[0m, in \u001b[0;36mkdeplot\u001b[0;34m(data, x, y, hue, weights, palette, hue_order, hue_norm, color, fill, multiple, common_norm, common_grid, cumulative, bw_method, bw_adjust, warn_singular, log_scale, levels, thresh, gridsize, cut, clip, legend, cbar, cbar_ax, cbar_kws, ax, **kwargs)\u001b[0m\n\u001b[1;32m   1717\u001b[0m     p\u001b[38;5;241m.\u001b[39mplot_univariate_density(\n\u001b[1;32m   1718\u001b[0m         multiple\u001b[38;5;241m=\u001b[39mmultiple,\n\u001b[1;32m   1719\u001b[0m         common_norm\u001b[38;5;241m=\u001b[39mcommon_norm,\n\u001b[0;32m   (...)\u001b[0m\n\u001b[1;32m   1726\u001b[0m         \u001b[38;5;241m*\u001b[39m\u001b[38;5;241m*\u001b[39mplot_kws,\n\u001b[1;32m   1727\u001b[0m     )\n\u001b[1;32m   1729\u001b[0m \u001b[38;5;28;01melse\u001b[39;00m:\n\u001b[0;32m-> 1731\u001b[0m     \u001b[43mp\u001b[49m\u001b[38;5;241;43m.\u001b[39;49m\u001b[43mplot_bivariate_density\u001b[49m\u001b[43m(\u001b[49m\n\u001b[1;32m   1732\u001b[0m \u001b[43m        \u001b[49m\u001b[43mcommon_norm\u001b[49m\u001b[38;5;241;43m=\u001b[39;49m\u001b[43mcommon_norm\u001b[49m\u001b[43m,\u001b[49m\n\u001b[1;32m   1733\u001b[0m \u001b[43m        \u001b[49m\u001b[43mfill\u001b[49m\u001b[38;5;241;43m=\u001b[39;49m\u001b[43mfill\u001b[49m\u001b[43m,\u001b[49m\n\u001b[1;32m   1734\u001b[0m \u001b[43m        \u001b[49m\u001b[43mlevels\u001b[49m\u001b[38;5;241;43m=\u001b[39;49m\u001b[43mlevels\u001b[49m\u001b[43m,\u001b[49m\n\u001b[1;32m   1735\u001b[0m \u001b[43m        \u001b[49m\u001b[43mthresh\u001b[49m\u001b[38;5;241;43m=\u001b[39;49m\u001b[43mthresh\u001b[49m\u001b[43m,\u001b[49m\n\u001b[1;32m   1736\u001b[0m \u001b[43m        \u001b[49m\u001b[43mlegend\u001b[49m\u001b[38;5;241;43m=\u001b[39;49m\u001b[43mlegend\u001b[49m\u001b[43m,\u001b[49m\n\u001b[1;32m   1737\u001b[0m \u001b[43m        \u001b[49m\u001b[43mcolor\u001b[49m\u001b[38;5;241;43m=\u001b[39;49m\u001b[43mcolor\u001b[49m\u001b[43m,\u001b[49m\n\u001b[1;32m   1738\u001b[0m \u001b[43m        \u001b[49m\u001b[43mwarn_singular\u001b[49m\u001b[38;5;241;43m=\u001b[39;49m\u001b[43mwarn_singular\u001b[49m\u001b[43m,\u001b[49m\n\u001b[1;32m   1739\u001b[0m \u001b[43m        \u001b[49m\u001b[43mcbar\u001b[49m\u001b[38;5;241;43m=\u001b[39;49m\u001b[43mcbar\u001b[49m\u001b[43m,\u001b[49m\n\u001b[1;32m   1740\u001b[0m \u001b[43m        \u001b[49m\u001b[43mcbar_ax\u001b[49m\u001b[38;5;241;43m=\u001b[39;49m\u001b[43mcbar_ax\u001b[49m\u001b[43m,\u001b[49m\n\u001b[1;32m   1741\u001b[0m \u001b[43m        \u001b[49m\u001b[43mcbar_kws\u001b[49m\u001b[38;5;241;43m=\u001b[39;49m\u001b[43mcbar_kws\u001b[49m\u001b[43m,\u001b[49m\n\u001b[1;32m   1742\u001b[0m \u001b[43m        \u001b[49m\u001b[43mestimate_kws\u001b[49m\u001b[38;5;241;43m=\u001b[39;49m\u001b[43mestimate_kws\u001b[49m\u001b[43m,\u001b[49m\n\u001b[1;32m   1743\u001b[0m \u001b[43m        \u001b[49m\u001b[38;5;241;43m*\u001b[39;49m\u001b[38;5;241;43m*\u001b[39;49m\u001b[43mkwargs\u001b[49m\u001b[43m,\u001b[49m\n\u001b[1;32m   1744\u001b[0m \u001b[43m    \u001b[49m\u001b[43m)\u001b[49m\n\u001b[1;32m   1746\u001b[0m \u001b[38;5;28;01mreturn\u001b[39;00m ax\n",
            "File \u001b[0;32m~/miniforge/envs/oreum_copula/lib/python3.12/site-packages/seaborn/distributions.py:1192\u001b[0m, in \u001b[0;36m_DistributionPlotter.plot_bivariate_density\u001b[0;34m(self, common_norm, fill, levels, thresh, color, legend, cbar, warn_singular, cbar_ax, cbar_kws, estimate_kws, **contour_kws)\u001b[0m\n\u001b[1;32m   1185\u001b[0m cset \u001b[38;5;241m=\u001b[39m contour_func(\n\u001b[1;32m   1186\u001b[0m     xx, yy, density,\n\u001b[1;32m   1187\u001b[0m     levels\u001b[38;5;241m=\u001b[39mdraw_levels[key],\n\u001b[1;32m   1188\u001b[0m     \u001b[38;5;241m*\u001b[39m\u001b[38;5;241m*\u001b[39mcontour_kws,\n\u001b[1;32m   1189\u001b[0m )\n\u001b[1;32m   1191\u001b[0m \u001b[38;5;28;01mif\u001b[39;00m \u001b[38;5;124m\"\u001b[39m\u001b[38;5;124mhue\u001b[39m\u001b[38;5;124m\"\u001b[39m \u001b[38;5;129;01mnot\u001b[39;00m \u001b[38;5;129;01min\u001b[39;00m \u001b[38;5;28mself\u001b[39m\u001b[38;5;241m.\u001b[39mvariables:\n\u001b[0;32m-> 1192\u001b[0m     \u001b[43mcset\u001b[49m\u001b[38;5;241;43m.\u001b[39;49m\u001b[43mcollections\u001b[49m[\u001b[38;5;241m0\u001b[39m]\u001b[38;5;241m.\u001b[39mset_label(label)\n\u001b[1;32m   1194\u001b[0m \u001b[38;5;66;03m# Add a color bar representing the contour heights\u001b[39;00m\n\u001b[1;32m   1195\u001b[0m \u001b[38;5;66;03m# Note: this shows iso densities, not iso proportions\u001b[39;00m\n\u001b[1;32m   1196\u001b[0m \u001b[38;5;66;03m# See more notes in histplot about how this could be improved\u001b[39;00m\n\u001b[1;32m   1197\u001b[0m \u001b[38;5;28;01mif\u001b[39;00m cbar:\n",
            "\u001b[0;31mAttributeError\u001b[0m: 'QuadContourSet' object has no attribute 'collections'"
          ]
        },
        {
          "data": {
            "image/png": "[encoded data removed]",
            "text/plain": [
              "<Figure size 432x432 with 3 Axes>"
            ]
          },
          "metadata": {
            "image/png": {
              "height": 421,
              "width": 428
            }
          },
          "output_type": "display_data"
        }
      ],
      "source": [
        "f = eda.plot_joint_numeric(data=df_train, ft0='c0', ft1='c1', kind='kde+scatter', \n",
        "            txtadd=f'Latent Copula = $MvN(0, \\Sigma={cb.ref_vals[\"c_cov\"].flatten().tolist()})$')"
      ]
    },
    {
      "attachments": {},
      "cell_type": "markdown",
      "metadata": {},
      "source": [
        "**Observe:**\n",
        "\n",
        "+ Note the standard `Normal(0,1)` scaling on the marginals\n",
        "+ Note the empirically-observed correlation $\\rho \\approx -0.7$ as defined in `c_cov`"
      ]
    },
    {
      "attachments": {},
      "cell_type": "markdown",
      "metadata": {
        "slideshow": {
          "slide_type": "subslide"
        }
      },
      "source": [
        "### 1.2.2 View the Uniform-Transformed Marginals"
      ]
    },
    {
      "cell_type": "markdown",
      "metadata": {
        "slideshow": {
          "slide_type": "fragment"
        }
      },
      "source": [
        "In this forward-pass to create the synthetic data, next we pass each dimension of the Latent Copula $C$ through the \n",
        "CDF of it's own function $\\Phi_{\\mathfrak{C}}$ to get a Latent Uniform distribution $U$\n",
        "\n",
        "$$\n",
        "\\begin{aligned}\n",
        "(U_{0}, U_{1}) &= \\Phi_{\\mathfrak{C}}(C_{0}, C_{1}) \\\\\n",
        "            &= \\text{NormalCDF}(C_{0}, C_{1})\n",
        "\\end{aligned}\n",
        "$$\n",
        "\n",
        "Regardless of the latent copula, this intermediate step will result in 2 Uniform marginals (which still have covariance)"
      ]
    },
    {
      "cell_type": "code",
      "execution_count": null,
      "metadata": {
        "slideshow": {
          "slide_type": "fragment"
        }
      },
      "outputs": [],
      "source": [
        "f = eda.plot_joint_numeric(data=df_train, ft0='u0', ft1='u1', kind='kde+scatter', colori=1, \n",
        "        txtadd='Latent Uniform Marginals with Copula Covariance')"
      ]
    },
    {
      "cell_type": "markdown",
      "metadata": {
        "slideshow": {
          "slide_type": "fragment"
        }
      },
      "source": [
        "**Observe:**\n",
        "\n",
        "+ Now the marginals are uniform, but the correlation remains"
      ]
    },
    {
      "attachments": {},
      "cell_type": "markdown",
      "metadata": {
        "slideshow": {
          "slide_type": "subslide"
        }
      },
      "source": [
        "### 1.2.3 View the Observed Marginals `m0`, `m1` (post transformation)"
      ]
    },
    {
      "cell_type": "markdown",
      "metadata": {
        "slideshow": {
          "slide_type": "fragment"
        }
      },
      "source": [
        "In this forward-pass to create the synthetic data, next we pass each dimension of the Latent Uniform $U$ through the \n",
        "Inverse CDF of the marginal distribution $\\Phi^{-1}_{\\mathfrak{M}}$ to get the Marginal distribution(s) in $M$\n",
        "\n",
        "$$\n",
        "\\begin{aligned}\n",
        "(M_{0}, M_{1}) &= \\Phi^{-1}_{\\mathfrak{M}}(U_{0}, U_{1}) \\\\\n",
        "                &= \\text{LogNormalInvCDF}(U_{0}, U_{1})\n",
        "\\end{aligned}\n",
        "$$\n",
        "\n",
        "The marginal distribution(s) $M$ can be anything. In practice we tend to use right-tailed distributions in the \n",
        "Exponential family, here a LogNormal. We can, of course, use different distributions on each marginal - there's no \n",
        "constraint to be the same - but we use the same ones here. This is the data that we would observe in the \n",
        "real-world dataset:"
      ]
    },
    {
      "cell_type": "code",
      "execution_count": null,
      "metadata": {
        "slideshow": {
          "slide_type": "fragment"
        }
      },
      "outputs": [],
      "source": [
        "f = eda.plot_joint_numeric(data=df_train, ft0='m0', ft1='m1', kind='kde+scatter', colori=2, \n",
        "            txtadd='Observed Marginals with Copula Covariance')\n",
        "fqn = figio.write(f, fn='000_jointplot_corr')"
      ]
    },
    {
      "cell_type": "markdown",
      "metadata": {
        "slideshow": {
          "slide_type": "fragment"
        }
      },
      "source": [
        "**Observe**\n",
        "\n",
        "+ Marginals now have unique long-tail distributions, and the correlation remains"
      ]
    },
    {
      "attachments": {},
      "cell_type": "markdown",
      "metadata": {
        "slideshow": {
          "slide_type": "subslide"
        }
      },
      "source": [
        "### 1.2.4 View the Marginals $Mx$ if they were synthesized without a Copula"
      ]
    },
    {
      "cell_type": "markdown",
      "metadata": {
        "slideshow": {
          "slide_type": "fragment"
        }
      },
      "source": [
        "In project class `synthetic.create_copula.CopulaBuilder` we also synthesize uncorrelated observations using the same\n",
        "transformation and final marginals $M$, so that we can visually compare the different effects. \n",
        "\n",
        "$$\n",
        "\\begin{aligned}\n",
        "(C^{\\chi}_{0}, C^{\\chi}_{1}) &\\sim \\text{Normal}(\\mu, \\sigma, \\text{shape}=2) \\\\\n",
        "(U^{\\chi}_{0}, U^{\\chi}_{1}) &= \\text{NormalCDF}(C^{\\chi}_{0}, C^{\\chi}_{1}) \\\\\n",
        "(M^{\\chi}_{0}, M^{\\chi}_{1}) &= \\text{LogNormalInvCDF}(U^{\\chi}_{0}, U^{\\chi}_{1}) \\\\\n",
        "\\end{aligned}\n",
        "$$\n",
        "\n",
        "Uncorrelated marginals $M^{\\chi}$ individually look the same as $M$. We have to look at the joint distribution to see the difference"
      ]
    },
    {
      "cell_type": "code",
      "execution_count": null,
      "metadata": {
        "slideshow": {
          "slide_type": "fragment"
        }
      },
      "outputs": [],
      "source": [
        "f = eda.plot_joint_numeric(data=df_train, ft0='m0x', ft1='m1x', kind='kde+scatter', colori=3, \n",
        "            txtadd='Observed Marginals without Copula Covariance')"
      ]
    },
    {
      "cell_type": "markdown",
      "metadata": {},
      "source": [
        "**Observe**\n",
        "\n",
        "+ Spherical joint distribution, no correlation between our marginals here"
      ]
    },
    {
      "attachments": {},
      "cell_type": "markdown",
      "metadata": {
        "slideshow": {
          "slide_type": "subslide"
        }
      },
      "source": [
        "### 1.2.5 Overplot Marginals Correlated ($M$) vs Uncorrelated ($M^{\\chi}$) to Highlight the Differences"
      ]
    },
    {
      "cell_type": "code",
      "execution_count": null,
      "metadata": {
        "slideshow": {
          "slide_type": "fragment"
        }
      },
      "outputs": [],
      "source": [
        "dfp = pd.concat((df_train[['m0', 'm1']], df_train[['m0x', 'm1x']]\\\n",
        "                 .rename(columns={'m0x':'m0', 'm1x': 'm1'})),\n",
        "                axis=0, ignore_index=True)\n",
        "dfp['corr_kind'] = np.repeat(['y_corr', 'y_uncorr'], repeats=len(df_train))\n",
        "f = eda.plot_joint_numeric(\n",
        "    data=dfp, ft0='m0', ft1='m1', hue='corr_kind', kind='kde', kdefill=False, colori=2,\n",
        "    txtadd='Observed marginals with / without Copula Covariance')\n",
        "fqn = figio.write(f, fn='000_jointplot_corr_vs_uncorr')"
      ]
    },
    {
      "attachments": {},
      "cell_type": "markdown",
      "metadata": {
        "slideshow": {
          "slide_type": "fragment"
        }
      },
      "source": [
        "**Observe**\n",
        "\n",
        "+ The marginals look almost identical, but the joint distribution is very different\n",
        "+ We might say _\"so what?\"_ because we can always jointplot our marginals $M$ and see that there is correlation\n",
        "+ The huge impact is that these lead to a very different **joint product** $y$..."
      ]
    },
    {
      "attachments": {},
      "cell_type": "markdown",
      "metadata": {
        "slideshow": {
          "slide_type": "subslide"
        }
      },
      "source": [
        "## 1.3 Compare the Impact on Joint Product $y$"
      ]
    },
    {
      "attachments": {},
      "cell_type": "markdown",
      "metadata": {
        "slideshow": {
          "slide_type": "fragment"
        }
      },
      "source": [
        "If we build a model $\\mathcal{H}$ that fits to marginals $M$, but does not account for the correlation, $\\mathcal{H}$\n",
        "will behave as if we fit it on uncorrelated marginals $M^{\\chi}$. The predicted differences in $M$ and $M^{\\chi}$ won't \n",
        "look too different on the marginals, but the joint products $y = M_{0} \\cdot M_{1}$ vs \n",
        "$y^{\\chi} = M^{\\chi}_{0} \\cdot M^{\\chi}_{1}$ can become very different:"
      ]
    },
    {
      "cell_type": "code",
      "execution_count": null,
      "metadata": {
        "slideshow": {
          "slide_type": "fragment"
        }
      },
      "outputs": [],
      "source": [
        "dfp['joint'] = dfp[['m0', 'm1']].product(axis=1)\n",
        "pal = sns.color_palette(['C2', 'C3'])\n",
        "f = eda.plot_smrystat_grp(dfp, grp='corr_kind', val='joint', palette=pal)\n",
        "fqn = figio.write(f, fn='000_y_corr_vs_uncorr')"
      ]
    },
    {
      "attachments": {},
      "cell_type": "markdown",
      "metadata": {
        "slideshow": {
          "slide_type": "fragment"
        }
      },
      "source": [
        "**Observe:**\n",
        "\n",
        "+ This customer diagnostic combination plot shows: \n",
        "  + Pointplot (left): The [bootstrapped](https://sedar.co/posts/bootstrap-primer/) sums $\\sum_{i}y_{i}$ vs $\\sum_{i}y^{\\chi}_{i}$\n",
        "  + Boxplot (center): The individual values $y_{i}$ vs $y^{\\chi}_{i}$\n",
        "  + Countplot (right): The counts of observations $i$\n",
        "+ The (bootstrapped) sum of `y_uncorr` ($\\mu \\approx 700$) is almost always much higher than for `y_corr` ($\\mu \\approx 500$)\n",
        "+ This shows that if our model $\\mathcal{H}$ were to estimate marginals correctly but ignore the covariance, it would erroneously mis-estimate the joint distribution total value $y$. Here that mistake is to overestimate."
      ]
    },
    {
      "attachments": {},
      "cell_type": "markdown",
      "metadata": {
        "slideshow": {
          "slide_type": "subslide"
        }
      },
      "source": [
        "#### View the overestimate $\\delta = \\sum_{i}y^{\\chi}_{i} - \\sum_{i}y_{i}$"
      ]
    },
    {
      "cell_type": "markdown",
      "metadata": {
        "slideshow": {
          "slide_type": "fragment"
        }
      },
      "source": [
        "Let's view the bootstapped overestimate `delta = y_uncorr = y_corr`"
      ]
    },
    {
      "cell_type": "code",
      "execution_count": null,
      "metadata": {
        "slideshow": {
          "slide_type": "fragment"
        }
      },
      "outputs": [],
      "source": [
        "idx = dfp['corr_kind'] == 'y_corr'\n",
        "dfpp = pd.DataFrame({'delta': dfp.loc[~idx, 'joint'].values - dfp.loc[idx, 'joint'].values}, index=df_train.index)\n",
        "g = eda.plot_smrystat(dfpp, val='delta', txtadd='joint product value')\n",
        "fqn = figio.write(f, fn='000_y_delta')"
      ]
    },
    {
      "attachments": {},
      "cell_type": "markdown",
      "metadata": {
        "slideshow": {
          "slide_type": "fragment"
        }
      },
      "source": [
        "**Observe:**\n",
        "\n",
        "If we imagine this to be a portfolio of $50$ policies, and the value of interest is an Expected Loss Cost \n",
        "$y == \\mathbb{E}_{\\text{loss}}$, and the units are dollars, then: \n",
        "+ If we were to use a model that ignores covariance, we might get a portfolio estimate of $\\mathbb{E}_{loss} \\approx 200$ dollars \n",
        "  **higher** than if we were to use a better model that handles covariance with a copula function\n",
        "+ This overestimate is a substantial $\\frac{700}{500} \\approx \\mathbb{+40\\%}$ and would likely make the difference between profitable \n",
        "  pricing / accurate reserving, or greatly loss-making business over the portfolio."
      ]
    },
    {
      "attachments": {},
      "cell_type": "markdown",
      "metadata": {
        "slideshow": {
          "slide_type": "fragment"
        }
      },
      "source": [
        "---\n",
        "\n",
        "---"
      ]
    },
    {
      "cell_type": "markdown",
      "metadata": {
        "slideshow": {
          "slide_type": "slide"
        }
      },
      "source": [
        "# 2. Brief Technical Summary: The Copula Model designed in this Project"
      ]
    },
    {
      "cell_type": "markdown",
      "metadata": {
        "slideshow": {
          "slide_type": "fragment"
        }
      },
      "source": [
        "Again, this **Intro** is for verbal presentation and discussion purposes only - ideally followed by a deeper technical \n",
        "walkthrough of the project in a long-form style. Because this project is a reference, it contains huge amounts of detail \n",
        "which is not worthwhile to summarise too much. \n",
        "\n",
        "The interested reader should refer to the project notebooks where state the architecture in full, we evaluate the \n",
        "behaviour and performance of the models in a consistent Bayesian workflow, including several state-of-the-art methods\n",
        "unavailable to conventional max-likelihood / machine-learning models.\n",
        "\n",
        "Here we can can highlight a very tangible impact of our results of using a Copula model (`ModelA2`) vs a Naive model \n",
        "(`ModelA0`)"
      ]
    },
    {
      "cell_type": "markdown",
      "metadata": {
        "slideshow": {
          "slide_type": "subslide"
        }
      },
      "source": [
        "## 2.1 Brief Orientation on Model Workflow and Architecture"
      ]
    },
    {
      "cell_type": "markdown",
      "metadata": {
        "slideshow": {
          "slide_type": "fragment"
        }
      },
      "source": [
        "### General Approach\n",
        "\n",
        "+ We create a synthetic dataset with 60 observations: these have exogenous values on 2 marginals $M_{0}$, $M_{1}$\n",
        "+ We create 3 models of increasing sophistication to estimate $\\hat{M_{0}}$, $\\hat{M_{1}}$ and thus the joint product \n",
        "  $\\hat{y} = \\hat{M_{0}} \\cdot \\hat{M_{1}}$\n",
        "+ The simplest naive model (`ModelA0`) does not include a copula function, and the most sophisticated model `ModelA2` does"
      ]
    },
    {
      "cell_type": "markdown",
      "metadata": {
        "slideshow": {
          "slide_type": "fragment"
        }
      },
      "source": [
        "\n",
        "+ We define a training set of 50 random observations, fit the models, and view the forecasted predictions on a holdout \n",
        "  set of 10 observations\n",
        "+ We fully evaluate the models in the project notebooks using a variety of sophisticated techniques including In-sample\n",
        "  Prior & Posterior Retrodictive ECDF plots, LOO-PIT calculations & plots, and more convential coverage, RSME and R2 \n",
        "  calculations. This forecast on the holdout is _not_ a formal model evaluation\n",
        "+ However for discussion and elucidation we can plot the [bootstrapped](https://sedar.co/posts/bootstrap-primer/) sum\n",
        "  of the actual values $\\sum{y}_{\\text{holdout}}$ and compare to the posterior predictions $\\sum{\\hat{y}}_{\\text{holdout}}$\n",
        "  of the two models "
      ]
    },
    {
      "cell_type": "markdown",
      "metadata": {
        "slideshow": {
          "slide_type": "subslide"
        }
      },
      "source": [
        "### General Architecture\n",
        "\n",
        "In contrast to the \"forward-pass\" that we use to synthesize the data, for the model we must of course start with the \n",
        "only data that we have (the observed marginals $M$) and work in a \"backwards-pass\" toward the copula.\n",
        "\n",
        "1. Define 2 marginal distributions $(\\mathfrak{M}_{0}, \\mathfrak{M}_{1})$ (here for convenience we use the same family \n",
        "   (Lognormals) for each, so we will represent as simply $\\mathfrak{M}$). Each marginal is parameterised by a linear \n",
        "   submodel $\\beta^{T}\\mathbb{x}_{ij}$ to allow linear regression onto selected features $j$ \n",
        "$$\\mathfrak{M} = \\text{LogNormal}(\\mu=\\beta^{T}\\mathbb{x}_{ij}, \\sigma)$$\n",
        "   \n",
        "2. Transform each dimension of the observed marginal data $M$ through the CDF of the marginal distribution(s) to yield \n",
        "   data distributed according to a Latent Uniform distribution $U$\n",
        "$$(U_{0}, U_{1}) = \\Phi_{\\mathfrak{M}}(M_{0}, M_{1})$$\n",
        "\n",
        "3. Transform each dimension of now-uniform data $U$ through the Inverse CDF of the copula distribution(s) \n",
        "   $(\\mathfrak{C}_{0}, \\mathfrak{C}_{1})$ (here for convenience we use the same family (Normal aka a Gaussian Copula) \n",
        "   for each, so we will represent as simply $\\mathfrak{C}$)\n",
        "$$(C_{0}, C_{1}) = \\Phi^{-1}_{\\mathfrak{C}}(U_{0}, U_{1})$$\n",
        "\n",
        "4. Evidence the transformed data $C$ against the copula function $\\log \\mathcal{L}\\ \\mathfrak{C}$ \n",
        "5. For stability and correctness, we also evidence at the marginals and minimise a Jacobian adjustment on the \n",
        "   double-transformed data.\n",
        "6.  **Importantly**, and unlike other model specifications in the Bayesian literature, we preserve the full posterior\n",
        "   distribution(s) all the way through the model specification, without ever having to collapse to point estimates\n",
        "\n"
      ]
    },
    {
      "cell_type": "markdown",
      "metadata": {
        "slideshow": {
          "slide_type": "subslide"
        }
      },
      "source": [
        "### Plate Notation Diagram\n",
        "\n",
        "Refer to Notebook `102_ModelA2.ipynb` and project class `models.copula.ModelA2` for the full details. Here we will just\n",
        "show the plate notation of the model."
      ]
    },
    {
      "cell_type": "code",
      "execution_count": null,
      "metadata": {
        "slideshow": {
          "slide_type": "fragment"
        }
      },
      "outputs": [],
      "source": [
        "figio.read(fn='../data/models/graph_mdla2_v120_dfx_train.png', \n",
        "        title='Plate Notation of Copula ModelA2', figsize=(12, 7))"
      ]
    },
    {
      "cell_type": "markdown",
      "metadata": {},
      "source": [
        "**Observe:**\n",
        "\n",
        "This advanced, fully Bayesian architecture allows for:\n",
        "+ Regression via linear submodels $\\beta^{T}\\mathbf{x}$ on the marginals of `mhat`\n",
        "+ Efficient covariance via an $\\text{LKJCholeskyCovariance}$ structure\n",
        "+ A natural transformation from `M -> U -> C` including Jacobian Adjustment"
      ]
    },
    {
      "cell_type": "markdown",
      "metadata": {
        "slideshow": {
          "slide_type": "subslide"
        }
      },
      "source": [
        "## 2.2 Compare Estimated $\\hat{y}$ `ModelA0` vs `ModelA2`"
      ]
    },
    {
      "cell_type": "markdown",
      "metadata": {
        "slideshow": {
          "slide_type": "fragment"
        }
      },
      "source": [
        "### `ModelA0`"
      ]
    },
    {
      "cell_type": "markdown",
      "metadata": {},
      "source": [
        "This model sets a baseline for performance: it uses the same marginals but does not have a copula. This is\n",
        "\"the best that one could do\" with a naive non-copula architecture, and the performance / results are analogous to \n",
        "$M^{\\chi}$ that we discussed in $\\S1$"
      ]
    },
    {
      "cell_type": "code",
      "execution_count": null,
      "metadata": {
        "slideshow": {
          "slide_type": "fragment"
        }
      },
      "outputs": [],
      "source": [
        "figio.read(fn='100_2_8_4_ppc_holdout_y_boxplot_mdla0_v1_3_0_dfx_holdout.png', figsize=(12, 6))"
      ]
    },
    {
      "cell_type": "markdown",
      "metadata": {
        "slideshow": {
          "slide_type": "fragment"
        }
      },
      "source": [
        "**Observe:**\n",
        "\n",
        "+ Now we can clearly see the impact: although the in-sample model fit was acceptable, the combined value $y$ is way\n",
        "  off, because this model ignores copula correlation between the marginals\n",
        "+ The mean of $\\sum_{i}{\\hat{y}}_{i}$ is $\\mu = 133$, is very different (and sits outside of) the bootstrapped sum of \n",
        "  the actual data $\\sum_{i}{\\hat{y}}_{i}$ which has a mean $\\mu = 96$\n",
        "+ Comparing means we have a $\\frac{133}{96} \\approx 39\\%$ overestimate!\n",
        "+ We do see that the PPC distribution envelops the bootstrapped actual data, which is promising, and means the model \n",
        "  wouldn't necessarily be wrong to use, but there is clearly room to improve!"
      ]
    },
    {
      "cell_type": "markdown",
      "metadata": {
        "slideshow": {
          "slide_type": "subslide"
        }
      },
      "source": [
        "### `ModelA2`"
      ]
    },
    {
      "cell_type": "markdown",
      "metadata": {},
      "source": [
        "This is our most advanced model with a copula architecture: the performance / results are analogous to \n",
        "$M$ that we discussed in $\\S1$"
      ]
    },
    {
      "cell_type": "code",
      "execution_count": null,
      "metadata": {
        "slideshow": {
          "slide_type": "fragment"
        }
      },
      "outputs": [],
      "source": [
        "figio.read(fn='102_2_8_4_ppc_holdout_y_boxplot_mdla2_v1_2_0_dfx_holdout.png', figsize=(12, 6))"
      ]
    },
    {
      "cell_type": "markdown",
      "metadata": {
        "slideshow": {
          "slide_type": "fragment"
        }
      },
      "source": [
        "**Observe:**\n",
        "\n",
        "+ Now we can clearly see the impact: the Jacobian adjustment has allowed `mdla2` to estimate a much more precise and \n",
        "  accurate value for $\\hat{y}$\n",
        "+ The mean of $\\sum_{i}{\\hat{y}}_{i}$ is $\\mu = 103$, and falls within the bootstrapped sum for the actual data $\\sum_{i}{\\hat{y}}_{i}$\n",
        "  which has a mean $\\mu = 96$\n",
        "+ Comparing means, we get $\\frac{103}{96} \\approx 7\\%$ overestimate\n",
        "+ This is substantially better than `mdla0`, and also meaningfully improves on `mdla1`"
      ]
    },
    {
      "cell_type": "markdown",
      "metadata": {
        "slideshow": {
          "slide_type": "fragment"
        }
      },
      "source": [
        "### `ModelA2` vs `ModelA0`"
      ]
    },
    {
      "cell_type": "markdown",
      "metadata": {
        "slideshow": {
          "slide_type": "fragment"
        }
      },
      "source": [
        "In the above, we see a reduction in the mean overestimate of $y$ from $39\\%$ down to $7\\%$: **a 32 percentage point drop**\n",
        "\n",
        "This is a **huge difference** on this very small and simple dataset, and found only by correctly modelling the covariance \n",
        "using a copula and a sophisticated model architecture."
      ]
    },
    {
      "cell_type": "markdown",
      "metadata": {
        "slideshow": {
          "slide_type": "subslide"
        }
      },
      "source": [
        "## 2.3 Supercharged Predictions with Quantified Uncertainty: Exceedance Curve"
      ]
    },
    {
      "cell_type": "markdown",
      "metadata": {
        "slideshow": {
          "slide_type": "fragment"
        }
      },
      "source": [
        "Now we pull back to demonstrate the power and utility of using a Bayesian model in the first place: because the predicted\n",
        "output values individually & jointly have **quantified uncertainty** aka empirical probability. We can sum these and \n",
        "create an **Exceedance Curve (1 - ECDF)**"
      ]
    },
    {
      "cell_type": "code",
      "execution_count": null,
      "metadata": {
        "slideshow": {
          "slide_type": "fragment"
        }
      },
      "outputs": [],
      "source": [
        "figio.read(fn='102_2_8_4_ppc_holdout_y_exceedance_mdla2_v1_2_0_dfx_holdout.png', figsize=(12, 6))"
      ]
    },
    {
      "cell_type": "markdown",
      "metadata": {
        "slideshow": {
          "slide_type": "fragment"
        }
      },
      "source": [
        "We can read this curve _vertically_ to determine the empirical probability of achieving a particular value $y$:\n",
        "+ $P(\\sum{\\hat{y}_{i}} > 150) \\lt 0.05$: i.e. if we're worried about $\\sum{\\hat{y}_{i}} > 150$, we can slightly relax \n",
        "  because the probability is less than 1-in-20\n",
        "+ $P(\\sum{\\hat{y}_{i}} > 200) \\lt 0.01$: i.e. if we're worried about $\\sum{\\hat{y}_{i}} > 200$, we can relax \n",
        "  because the probability is less than 1-in-100\n",
        "\n",
        "We can read this curve _horizontally_ to determine the value $y$ at a particular probability:\n",
        "+ $P_{@0.5} \\geq 100$: i.e. 50% of all outcomes occur at $\\sum{\\hat{y}_{i}} \\leq 100$\n",
        "+ $P_{@0.01} \\geq 178$: i.e. 99% of all outcomes occur at $\\sum{\\hat{y}_{i}} \\leq 178$\n",
        "  "
      ]
    },
    {
      "cell_type": "markdown",
      "metadata": {},
      "source": [
        "---\n",
        "\n",
        "---"
      ]
    },
    {
      "attachments": {},
      "cell_type": "markdown",
      "metadata": {
        "slideshow": {
          "slide_type": "skip"
        }
      },
      "source": [
        "# Notes"
      ]
    },
    {
      "cell_type": "code",
      "execution_count": null,
      "metadata": {
        "slideshow": {
          "slide_type": "skip"
        }
      },
      "outputs": [],
      "source": [
        "%load_ext watermark\n",
        "%watermark -a \"jonathan.sedar@oreum.io\" -udtmv -iv"
      ]
    },
    {
      "cell_type": "markdown",
      "metadata": {
        "slideshow": {
          "slide_type": "slide"
        }
      },
      "source": [
        "### Next Steps\n",
        "\n",
        "Now the interested reader should dig into the Notebooks in project reference\n",
        "[`oreum_copula`](https://github.com/oreum-industries/oreum_copula)\n",
        "\n",
        "There we demonstrate the full E2E workflow for models of increasing sophistication, \n",
        "including several state-of-the-art methods unavailable to conventional \n",
        "max-likelihood / machine-learning models.\n",
        "\n",
        "+ `100_ModelA0.ipynb`: Core (naive) architecture: Create priors, marginal likelihoods, but no copula\n",
        "+ `101_ModelA1.ipynb`: Partial architecture (extends ModelA0): Include Gaussian copula (w/ Jacobian adjustment), and several technical innovations to let `pymc` work with the transformations\n",
        "+ `102_ModelA2.ipynb`: Full architecture (extends ModelA1): Include Jacobian Adjustment on transformed observations\n",
        "\n",
        "<a href='https://oreum.io'><img src='../assets/img/Oreum_wordmark_black_right_aligned_S.png' width='300px' style=\"float: right;\"/></a><div style=\"clear:both\"/>\n",
        "\n",
        "---\n",
        "**[Oreum Industries](https://oreum.io/) &copy; 2024**"
      ]
    }
  ],
  "metadata": {
    "kernelspec": {
      "display_name": "oreum_copula",
      "language": "python",
      "name": "python3"
    },
    "language_info": {
      "codemirror_mode": {
        "name": "ipython",
        "version": 3
      },
      "file_extension": ".py",
      "mimetype": "text/x-python",
      "name": "python",
      "nbconvert_exporter": "python",
      "pygments_lexer": "ipython3",
      "version": "3.12.8"
    },
    "pycharm": {
      "stem_cell": {
        "cell_type": "raw",
        "metadata": {
          "collapsed": false
        },
        "source": []
      }
    },
    "toc": {
      "base_numbering": 1,
      "nav_menu": {},
      "number_sections": true,
      "sideBar": true,
      "skip_h1_title": false,
      "title_cell": "Table of Contents",
      "title_sidebar": "Contents",
      "toc_cell": false,
      "toc_position": {},
      "toc_section_display": true,
      "toc_window_display": false
    }
  },
  "nbformat": 4,
  "nbformat_minor": 4
}
